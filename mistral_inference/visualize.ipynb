{
 "cells": [
  {
   "cell_type": "code",
   "execution_count": 2,
   "id": "79c61fd0-3200-4ba6-841d-c809e4c4e03c",
   "metadata": {
    "ExecuteTime": {
     "end_time": "2024-05-26T00:17:49.712042Z",
     "start_time": "2024-05-26T00:17:49.651956Z"
    }
   },
   "outputs": [
    {
     "name": "stdout",
     "output_type": "stream",
     "text": [
      "hello\n"
     ]
    }
   ],
   "source": [
    "print(\"hello\") \n",
    "# create a dict "
   ]
  },
  {
   "cell_type": "code",
   "execution_count": null,
   "outputs": [],
   "source": [],
   "metadata": {
    "collapsed": false
   },
   "id": "c6969018bb1e3b7d"
  }
 ],
 "metadata": {
  "kernelspec": {
   "display_name": "llm",
   "language": "python",
   "name": "llm"
  },
  "language_info": {
   "codemirror_mode": {
    "name": "ipython",
    "version": 3
   },
   "file_extension": ".py",
   "mimetype": "text/x-python",
   "name": "python",
   "nbconvert_exporter": "python",
   "pygments_lexer": "ipython3",
   "version": "3.12.2"
  }
 },
 "nbformat": 4,
 "nbformat_minor": 5
}
